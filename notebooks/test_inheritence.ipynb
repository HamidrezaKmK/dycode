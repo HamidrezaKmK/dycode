{
 "cells": [
  {
   "cell_type": "markdown",
   "metadata": {},
   "source": [
    "# Inheritence\n",
    "\n",
    "In this notebook, we will test some of the inheritence capabilities of the dycode wrappers. "
   ]
  },
  {
   "cell_type": "code",
   "execution_count": 1,
   "metadata": {},
   "outputs": [],
   "source": [
    "import sys\n",
    "\n",
    "sys.path.append('..')\n",
    "\n",
    "%load_ext autoreload\n"
   ]
  },
  {
   "cell_type": "markdown",
   "metadata": {},
   "source": [
    "\n",
    "Tired of passing attributes to the parent constructor function? The `dynamize` wrapper has got your back!"
   ]
  },
  {
   "cell_type": "code",
   "execution_count": 2,
   "metadata": {},
   "outputs": [],
   "source": [
    "%autoreload 2\n",
    "import dycode.wrappers as dyw\n",
    "\n",
    "@dyw.dynamize\n",
    "class A:\n",
    "    x = dyw.field(1)\n",
    "    y = dyw.field(2)\n",
    "\n",
    "    def __init__(self):\n",
    "        pass\n",
    "\n",
    "    def __repr__(self) -> str:\n",
    "        return f\"A({self.x}, {self.y})\"\n",
    "        \n",
    "    @dyw.dynamic_method\n",
    "    def foo(self):\n",
    "        return 1\n",
    "\n",
    "@dyw.dynamize\n",
    "class B(A):\n",
    "    z = dyw.field(3)\n",
    "    \n",
    "    def __init__(self):\n",
    "        pass\n",
    "\n",
    "    def __repr__(self) -> str:\n",
    "        return f\"B({self.x}, {self.y}, {self.z})\"\n",
    "    \n",
    "    @dyw.dynamic_method\n",
    "    def bar(self):\n",
    "        return 2"
   ]
  },
  {
   "cell_type": "code",
   "execution_count": null,
   "metadata": {},
   "outputs": [],
   "source": [
    "\n",
    "b = B(x=dyw.field(4))\n",
    "\n",
    "print(b)"
   ]
  }
 ],
 "metadata": {
  "kernelspec": {
   "display_name": "Python 3.10.9 ('venv': venv)",
   "language": "python",
   "name": "python3"
  },
  "language_info": {
   "codemirror_mode": {
    "name": "ipython",
    "version": 3
   },
   "file_extension": ".py",
   "mimetype": "text/x-python",
   "name": "python",
   "nbconvert_exporter": "python",
   "pygments_lexer": "ipython3",
   "version": "3.10.9"
  },
  "orig_nbformat": 4,
  "vscode": {
   "interpreter": {
    "hash": "b8830700a84a06840cdb240f48d81084db07a35c9ef84f1393b6d5d640478af3"
   }
  }
 },
 "nbformat": 4,
 "nbformat_minor": 2
}
